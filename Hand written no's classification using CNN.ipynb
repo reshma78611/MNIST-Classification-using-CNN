{
 "cells": [
  {
   "cell_type": "code",
   "execution_count": 1,
   "id": "7b251464",
   "metadata": {},
   "outputs": [],
   "source": [
    "import numpy as np\n",
    "import pandas as pd\n",
    "import seaborn as sns\n",
    "import matplotlib.pyplot as plt\n",
    "\n",
    "import tensorflow as tf\n",
    "from tensorflow import keras"
   ]
  },
  {
   "cell_type": "code",
   "execution_count": 2,
   "id": "ec065a55",
   "metadata": {},
   "outputs": [],
   "source": [
    "(X_train,Y_train),(X_test,Y_test)=keras.datasets.mnist.load_data()"
   ]
  },
  {
   "cell_type": "code",
   "execution_count": 3,
   "id": "4cbc094c",
   "metadata": {},
   "outputs": [
    {
     "data": {
      "text/plain": [
       "(60000, 28, 28)"
      ]
     },
     "execution_count": 3,
     "metadata": {},
     "output_type": "execute_result"
    }
   ],
   "source": [
    "X_train.shape"
   ]
  },
  {
   "cell_type": "code",
   "execution_count": 4,
   "id": "1f776031",
   "metadata": {},
   "outputs": [
    {
     "data": {
      "text/plain": [
       "(10000, 28, 28)"
      ]
     },
     "execution_count": 4,
     "metadata": {},
     "output_type": "execute_result"
    }
   ],
   "source": [
    "X_test.shape"
   ]
  },
  {
   "cell_type": "code",
   "execution_count": 5,
   "id": "0138dc85",
   "metadata": {},
   "outputs": [
    {
     "data": {
      "text/plain": [
       "<matplotlib.image.AxesImage at 0x1ca47b7ebb0>"
      ]
     },
     "execution_count": 5,
     "metadata": {},
     "output_type": "execute_result"
    },
    {
     "data": {
      "image/png": "[encoded data removed]",
      "text/plain": [
       "<Figure size 432x288 with 1 Axes>"
      ]
     },
     "metadata": {
      "needs_background": "light"
     },
     "output_type": "display_data"
    }
   ],
   "source": [
    "plt.imshow(X_train[2])"
   ]
  },
  {
   "cell_type": "code",
   "execution_count": 6,
   "id": "2fe5875d",
   "metadata": {},
   "outputs": [
    {
     "data": {
      "text/plain": [
       "4"
      ]
     },
     "execution_count": 6,
     "metadata": {},
     "output_type": "execute_result"
    }
   ],
   "source": [
    "Y_train[2]"
   ]
  },
  {
   "cell_type": "code",
   "execution_count": 7,
   "id": "b0c9bb88",
   "metadata": {},
   "outputs": [],
   "source": [
    "# Scaling\n",
    "\n",
    "X_train=X_train/255\n",
    "X_test=X_test/255"
   ]
  },
  {
   "cell_type": "code",
   "execution_count": 8,
   "id": "fe80e191",
   "metadata": {},
   "outputs": [],
   "source": [
    "from keras.models import Sequential\n",
    "from keras.layers import Dense, Dropout, Activation, Flatten\n",
    "from keras.layers import Conv2D, MaxPooling2D"
   ]
  },
  {
   "cell_type": "code",
   "execution_count": 9,
   "id": "43171111",
   "metadata": {},
   "outputs": [
    {
     "data": {
      "text/plain": [
       "(60000, 28, 28)"
      ]
     },
     "execution_count": 9,
     "metadata": {},
     "output_type": "execute_result"
    }
   ],
   "source": [
    "X_train.shape\n",
    "# which means image of size 28x28 and having such 60,000 images\n",
    "# This can also be written as (28,28,60000), both of them represent same meaning"
   ]
  },
  {
   "cell_type": "code",
   "execution_count": 10,
   "id": "d3079ad1",
   "metadata": {},
   "outputs": [],
   "source": [
    "import keras.backend as k\n",
    "## The info about dimensions is not given (1 dim or 2 dim or 3 dim\n",
    "\n",
    "#For 3D data, \"channels_last\" assumes (conv_dim1, conv_dim2, conv_dim3, channels) while \n",
    "#\"channels_first\" assumes (channels, conv_dim1, conv_dim2, conv_dim3).\n",
    "img_rows, img_cols=28,28\n",
    "if k.image_data_format() == 'channels_first':\n",
    "    X_train = X_train.reshape(X_train.shape[0], 1, img_rows, img_cols)\n",
    "    X_test = X_test.reshape(X_test.shape[0], 1, img_rows, img_cols)\n",
    "    input_shape = (1, img_rows, img_cols)\n",
    "else:\n",
    "    X_train = X_train.reshape(X_train.shape[0], img_rows, img_cols, 1)\n",
    "    X_test = X_test.reshape(X_test.shape[0], img_rows, img_cols, 1)\n",
    "    input_shape = (img_rows, img_cols, 1)"
   ]
  },
  {
   "cell_type": "code",
   "execution_count": 11,
   "id": "5c1b4599",
   "metadata": {},
   "outputs": [],
   "source": [
    "# input  (28,28,1)\n",
    "# conv1 (3,3)  #32 #26,26,32  #para 10*32\n",
    "# conv2 (3,3)  #64  #24,24,64 # (9*32+1)*64\n",
    "# MaxPooling2D (2,2) strides=1\n",
    "# model.add(Dropout(0.25))\n",
    "# #a,b,c\n",
    "# flatten length a*b*c #24*24*64\n",
    "# dense1 128 #128 #128*(24*24*64)+128\n",
    "# model.add(Dropout(0.5))\n",
    "# dense2 10 #128*10+10\n"
   ]
  },
  {
   "cell_type": "code",
   "execution_count": 12,
   "id": "8f2c457b",
   "metadata": {},
   "outputs": [],
   "source": [
    "model = Sequential()\n",
    "#convolutional layer with rectified linear unit activation\n",
    "model.add(Conv2D(32, kernel_size=(3, 3),\n",
    "                 activation='relu',\n",
    "                 input_shape=input_shape))\n",
    "#32 convolution filters used each of size 3x3\n",
    "#again\n",
    "model.add(Conv2D(64, (3, 3), activation='relu'))\n",
    "#64 convolution filters used each of size 3x3\n",
    "#choose the best features via pooling\n",
    "model.add(MaxPooling2D(pool_size=(2, 2),strides=2))\n",
    "#randomly turn neurons on and off to improve convergence\n",
    "model.add(Dropout(0.25))\n",
    "#flatten since too many dimensions, we only want a classification output\n",
    "model.add(Flatten())\n",
    "#fully connected to get all relevant data\n",
    "model.add(Dense(128, activation='relu'))\n",
    "#one more dropout for convergence' sake :) \n",
    "model.add(Dropout(0.5))\n",
    "#output a softmax to squash the matrix into output probabilities\n",
    "model.add(Dense(10, activation='softmax'))"
   ]
  },
  {
   "cell_type": "code",
   "execution_count": 13,
   "id": "aa8cf3fa",
   "metadata": {},
   "outputs": [
    {
     "name": "stdout",
     "output_type": "stream",
     "text": [
      "Model: \"sequential\"\n",
      "_________________________________________________________________\n",
      "Layer (type)                 Output Shape              Param #   \n",
      "=================================================================\n",
      "conv2d (Conv2D)              (None, 26, 26, 32)        320       \n",
      "_________________________________________________________________\n",
      "conv2d_1 (Conv2D)            (None, 24, 24, 64)        18496     \n",
      "_________________________________________________________________\n",
      "max_pooling2d (MaxPooling2D) (None, 12, 12, 64)        0         \n",
      "_________________________________________________________________\n",
      "dropout (Dropout)            (None, 12, 12, 64)        0         \n",
      "_________________________________________________________________\n",
      "flatten (Flatten)            (None, 9216)              0         \n",
      "_________________________________________________________________\n",
      "dense (Dense)                (None, 128)               1179776   \n",
      "_________________________________________________________________\n",
      "dropout_1 (Dropout)          (None, 128)               0         \n",
      "_________________________________________________________________\n",
      "dense_1 (Dense)              (None, 10)                1290      \n",
      "=================================================================\n",
      "Total params: 1,199,882\n",
      "Trainable params: 1,199,882\n",
      "Non-trainable params: 0\n",
      "_________________________________________________________________\n"
     ]
    }
   ],
   "source": [
    "model.summary()"
   ]
  },
  {
   "cell_type": "code",
   "execution_count": 14,
   "id": "6f40a58a",
   "metadata": {},
   "outputs": [],
   "source": [
    "model.compile(optimizer='Adadelta',loss='sparse_categorical_crossentropy',metrics=['accuracy'])"
   ]
  },
  {
   "cell_type": "code",
   "execution_count": 15,
   "id": "8676fd8b",
   "metadata": {},
   "outputs": [
    {
     "name": "stdout",
     "output_type": "stream",
     "text": [
      "Epoch 1/10\n",
      "1875/1875 [==============================] - 267s 142ms/step - loss: 2.1998 - accuracy: 0.2504\n",
      "Epoch 2/10\n",
      "1875/1875 [==============================] - 285s 152ms/step - loss: 1.8787 - accuracy: 0.5094\n",
      "Epoch 3/10\n",
      "1875/1875 [==============================] - 283s 151ms/step - loss: 1.4794 - accuracy: 0.6141\n",
      "Epoch 4/10\n",
      "1875/1875 [==============================] - 285s 152ms/step - loss: 1.1578 - accuracy: 0.6750\n",
      "Epoch 5/10\n",
      "1875/1875 [==============================] - 294s 157ms/step - loss: 0.9601 - accuracy: 0.7174\n",
      "Epoch 6/10\n",
      "1875/1875 [==============================] - 288s 153ms/step - loss: 0.8395 - accuracy: 0.7453\n",
      "Epoch 7/10\n",
      "1875/1875 [==============================] - 283s 151ms/step - loss: 0.7632 - accuracy: 0.7656\n",
      "Epoch 8/10\n",
      "1875/1875 [==============================] - 287s 153ms/step - loss: 0.6985 - accuracy: 0.7832\n",
      "Epoch 9/10\n",
      "1875/1875 [==============================] - 282s 150ms/step - loss: 0.6654 - accuracy: 0.7938\n",
      "Epoch 10/10\n",
      "1875/1875 [==============================] - 286s 152ms/step - loss: 0.6269 - accuracy: 0.8061\n"
     ]
    },
    {
     "data": {
      "text/plain": [
       "<keras.callbacks.History at 0x1ca447e0cd0>"
      ]
     },
     "execution_count": 15,
     "metadata": {},
     "output_type": "execute_result"
    }
   ],
   "source": [
    "model.fit(X_train,Y_train,epochs=10)"
   ]
  },
  {
   "cell_type": "code",
   "execution_count": 16,
   "id": "58d44c52",
   "metadata": {},
   "outputs": [
    {
     "name": "stdout",
     "output_type": "stream",
     "text": [
      "313/313 [==============================] - 12s 36ms/step - loss: 0.4161 - accuracy: 0.8881\n"
     ]
    },
    {
     "data": {
      "text/plain": [
       "[0.4161350727081299, 0.8881000280380249]"
      ]
     },
     "execution_count": 16,
     "metadata": {},
     "output_type": "execute_result"
    }
   ],
   "source": [
    "# To test on test data\n",
    "\n",
    "model.evaluate(X_test,Y_test)"
   ]
  },
  {
   "cell_type": "code",
   "execution_count": 22,
   "id": "ccf9634c",
   "metadata": {},
   "outputs": [
    {
     "data": {
      "text/plain": [
       "[<keras.layers.convolutional.Conv2D at 0x1ca446c12e0>,\n",
       " <keras.layers.convolutional.Conv2D at 0x1ca446c1340>,\n",
       " <keras.layers.pooling.MaxPooling2D at 0x1ca446f0d30>,\n",
       " <keras.layers.core.Dropout at 0x1ca44795a90>,\n",
       " <keras.layers.core.Flatten at 0x1ca446f0a60>,\n",
       " <keras.layers.core.Dense at 0x1ca447e0ee0>,\n",
       " <keras.layers.core.Dropout at 0x1ca448021c0>,\n",
       " <keras.layers.core.Dense at 0x1ca44802dc0>]"
      ]
     },
     "execution_count": 22,
     "metadata": {},
     "output_type": "execute_result"
    }
   ],
   "source": [
    "model.layers"
   ]
  },
  {
   "cell_type": "markdown",
   "id": "d248cdb1",
   "metadata": {},
   "source": [
    "### Check the predictions"
   ]
  },
  {
   "cell_type": "code",
   "execution_count": 23,
   "id": "a1bd0fd3",
   "metadata": {},
   "outputs": [],
   "source": [
    "Y_predict=model.predict(X_test)"
   ]
  },
  {
   "cell_type": "code",
   "execution_count": 24,
   "id": "423cd327",
   "metadata": {
    "scrolled": true
   },
   "outputs": [
    {
     "data": {
      "text/plain": [
       "<matplotlib.image.AxesImage at 0x1ca4522f670>"
      ]
     },
     "execution_count": 24,
     "metadata": {},
     "output_type": "execute_result"
    },
    {
     "data": {
      "image/png": "[encoded data removed]",
      "text/plain": [
       "<Figure size 432x288 with 1 Axes>"
      ]
     },
     "metadata": {
      "needs_background": "light"
     },
     "output_type": "display_data"
    }
   ],
   "source": [
    "plt.imshow(X_test[2])"
   ]
  },
  {
   "cell_type": "code",
   "execution_count": 25,
   "id": "5995bd3b",
   "metadata": {},
   "outputs": [
    {
     "data": {
      "text/plain": [
       "array([0.0020474 , 0.9009588 , 0.02114947, 0.01648768, 0.00556732,\n",
       "       0.00704846, 0.00833249, 0.01521682, 0.018497  , 0.00469464],\n",
       "      dtype=float32)"
      ]
     },
     "execution_count": 25,
     "metadata": {},
     "output_type": "execute_result"
    }
   ],
   "source": [
    "# possible probabilities for values from 0 to 9\n",
    "Y_predict[2]"
   ]
  },
  {
   "cell_type": "code",
   "execution_count": 26,
   "id": "b2c99797",
   "metadata": {},
   "outputs": [
    {
     "data": {
      "text/plain": [
       "1"
      ]
     },
     "execution_count": 26,
     "metadata": {},
     "output_type": "execute_result"
    }
   ],
   "source": [
    "# To print which number is having max probability from 0 to 9 => our final prediction value\n",
    "np.argmax(Y_predict[2])"
   ]
  },
  {
   "cell_type": "code",
   "execution_count": 27,
   "id": "553b1921",
   "metadata": {},
   "outputs": [
    {
     "name": "stdout",
     "output_type": "stream",
     "text": [
      "Actual : 1\n",
      "Predicted : 1\n"
     ]
    }
   ],
   "source": [
    "print('Actual :',Y_test[2])\n",
    "print('Predicted :',np.argmax(Y_predict[2]))"
   ]
  },
  {
   "cell_type": "code",
   "execution_count": 28,
   "id": "46b41f95",
   "metadata": {},
   "outputs": [
    {
     "data": {
      "text/plain": [
       "array([7, 2, 1, 0, 4], dtype=uint8)"
      ]
     },
     "execution_count": 28,
     "metadata": {},
     "output_type": "execute_result"
    }
   ],
   "source": [
    "Y_test[0:5]"
   ]
  },
  {
   "cell_type": "code",
   "execution_count": 29,
   "id": "045acc1c",
   "metadata": {},
   "outputs": [
    {
     "data": {
      "text/plain": [
       "array([[4.9621088e-04, 1.9220497e-04, 2.2423172e-03, 2.0990553e-03,\n",
       "        1.1644821e-03, 1.0976358e-03, 7.5810865e-05, 9.8296767e-01,\n",
       "        8.6750271e-04, 8.7971212e-03],\n",
       "       [9.4209453e-03, 8.5856356e-03, 8.9386046e-01, 1.8077539e-02,\n",
       "        2.8847879e-05, 9.9225556e-03, 4.6990149e-02, 1.0143236e-04,\n",
       "        1.2903656e-02, 1.0884283e-04],\n",
       "       [2.0473972e-03, 9.0095878e-01, 2.1149471e-02, 1.6487682e-02,\n",
       "        5.5673239e-03, 7.0484602e-03, 8.3324900e-03, 1.5216822e-02,\n",
       "        1.8497001e-02, 4.6946444e-03],\n",
       "       [9.8595411e-01, 2.3793202e-06, 7.5331202e-04, 7.6090958e-04,\n",
       "        4.7682894e-05, 1.9638373e-03, 8.3313342e-03, 8.6716097e-04,\n",
       "        9.2159712e-04, 3.9758338e-04],\n",
       "       [4.5540733e-03, 2.7942835e-04, 1.3395235e-02, 9.6372498e-04,\n",
       "        7.7654427e-01, 3.2438734e-03, 1.7499136e-02, 2.4244951e-02,\n",
       "        1.2309773e-02, 1.4696550e-01]], dtype=float32)"
      ]
     },
     "execution_count": 29,
     "metadata": {},
     "output_type": "execute_result"
    }
   ],
   "source": [
    "Y_predict[0:5]"
   ]
  },
  {
   "cell_type": "code",
   "execution_count": 30,
   "id": "691df8ca",
   "metadata": {},
   "outputs": [
    {
     "data": {
      "text/plain": [
       "[7, 2, 1, 0, 4]"
      ]
     },
     "execution_count": 30,
     "metadata": {},
     "output_type": "execute_result"
    }
   ],
   "source": [
    "Y_predict_labels=[np.argmax(i) for i in Y_predict]\n",
    "Y_predict_labels[0:5]"
   ]
  },
  {
   "cell_type": "code",
   "execution_count": 31,
   "id": "62226d8e",
   "metadata": {},
   "outputs": [
    {
     "data": {
      "text/plain": [
       "<tf.Tensor: shape=(10, 10), dtype=int32, numpy=\n",
       "array([[ 954,    0,    3,    2,    0,    2,   11,    1,    7,    0],\n",
       "       [   0, 1109,    3,    6,    1,    4,    4,    0,    8,    0],\n",
       "       [  18,    7,  870,   18,   15,    0,   27,   24,   49,    4],\n",
       "       [   4,    5,   25,  889,    0,   31,    4,   22,   23,    7],\n",
       "       [   1,    7,    4,    0,  864,    0,   22,    3,    5,   76],\n",
       "       [  20,    6,    5,   73,   22,  686,   19,    4,   44,   13],\n",
       "       [  15,    7,    6,    1,    8,   18,  899,    1,    3,    0],\n",
       "       [   1,   23,   28,    3,   14,    0,    0,  901,    5,   53],\n",
       "       [  13,   16,    9,   30,   12,   17,   12,   18,  827,   20],\n",
       "       [  15,   12,    9,   10,   36,    6,    0,   32,    7,  882]])>"
      ]
     },
     "execution_count": 31,
     "metadata": {},
     "output_type": "execute_result"
    }
   ],
   "source": [
    "cm=tf.math.confusion_matrix(labels=Y_test,predictions=Y_predict_labels)\n",
    "cm"
   ]
  },
  {
   "cell_type": "code",
   "execution_count": 32,
   "id": "3c86ee19",
   "metadata": {},
   "outputs": [
    {
     "data": {
      "text/plain": [
       "Text(69.0, 0.5, 'Truth')"
      ]
     },
     "execution_count": 32,
     "metadata": {},
     "output_type": "execute_result"
    },
    {
     "data": {
      "image/png": "[encoded data removed]",
      "text/plain": [
       "<Figure size 720x360 with 2 Axes>"
      ]
     },
     "metadata": {
      "needs_background": "light"
     },
     "output_type": "display_data"
    }
   ],
   "source": [
    "plt.figure(figsize=(10,5))\n",
    "sns.heatmap(cm,annot=True,fmt='d')\n",
    "plt.xlabel('Predicted')\n",
    "plt.ylabel('Truth')"
   ]
  },
  {
   "cell_type": "code",
   "execution_count": null,
   "id": "c97849c5",
   "metadata": {},
   "outputs": [],
   "source": []
  }
 ],
 "metadata": {
  "kernelspec": {
   "display_name": "Python 3",
   "language": "python",
   "name": "python3"
  },
  "language_info": {
   "codemirror_mode": {
    "name": "ipython",
    "version": 3
   },
   "file_extension": ".py",
   "mimetype": "text/x-python",
   "name": "python",
   "nbconvert_exporter": "python",
   "pygments_lexer": "ipython3",
   "version": "3.8.8"
  }
 },
 "nbformat": 4,
 "nbformat_minor": 5
}
